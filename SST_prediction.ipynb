{
 "cells": [
  {
   "cell_type": "code",
   "execution_count": null,
   "id": "59cfae03",
   "metadata": {},
   "outputs": [],
   "source": [
    "from tensorflow.keras.layers import ConvLSTM2D, Conv3D, BatchNormalization, Dropout,LSTM\n",
    "from tensorflow.keras.models import Sequential, Model\n",
    "from tensorflow.keras.layers import (Input, Dense, Conv2D, MaxPooling2D, UpSampling2D,Attention,\n",
    "                                     Flatten, Reshape, UpSampling3D, MaxPool3D, AveragePooling2D)\n",
    "from tensorflow.keras.callbacks import EarlyStopping\n",
    "from tensorflow.keras.layers import TimeDistributed, GRU, InputLayer, Softmax\n",
    "from tensorflow.keras import Model\n",
    "early_stopping = EarlyStopping(patience=30)\n",
    "import numpy as np\n",
    "import tensorflow as tf\n",
    "import matplotlib.pyplot as plt\n",
    "import pickle"
   ]
  },
  {
   "cell_type": "markdown",
   "id": "c153551f",
   "metadata": {},
   "source": [
    "## data"
   ]
  },
  {
   "cell_type": "code",
   "execution_count": null,
   "id": "2e68fd2f",
   "metadata": {},
   "outputs": [],
   "source": [
    "import pickle\n",
    "with open('D:\\\\py\\\\deeppy\\\\sst_data4.pickle','rb') as file:\n",
    "    sst_data = pickle.load(file)"
   ]
  },
  {
   "cell_type": "code",
   "execution_count": null,
   "id": "43852472",
   "metadata": {},
   "outputs": [],
   "source": [
    "minidata = sst_data[:,200:400,250:450]"
   ]
  },
  {
   "cell_type": "code",
   "execution_count": null,
   "id": "15bcad23",
   "metadata": {},
   "outputs": [],
   "source": [
    "minval = np.min(np.where(minidata>0,minidata,5000))\n",
    "maxval = np.max(minidata)"
   ]
  },
  {
   "cell_type": "code",
   "execution_count": null,
   "id": "4bb49aa2",
   "metadata": {},
   "outputs": [],
   "source": [
    "minidata = (minidata+0.000001-minval)/(maxval+0.000001-minval)"
   ]
  },
  {
   "cell_type": "code",
   "execution_count": null,
   "id": "905ad7da",
   "metadata": {},
   "outputs": [],
   "source": [
    "minidata = np.where(minidata>0,minidata,0)"
   ]
  },
  {
   "cell_type": "code",
   "execution_count": null,
   "id": "8e0de540",
   "metadata": {},
   "outputs": [],
   "source": [
    "west = sst_data[:,275:285,301:311]\n",
    "east = sst_data[:,275:285,396:406]\n",
    "south = sst_data[:,322:332,349:359]"
   ]
  },
  {
   "cell_type": "code",
   "execution_count": null,
   "id": "bb357bd1",
   "metadata": {},
   "outputs": [],
   "source": [
    "eastdiff = np.max(east)-np.min(east)\n",
    "eastnor = (east-np.min(east))/(np.max(east) - np.min(east))"
   ]
  },
  {
   "cell_type": "code",
   "execution_count": null,
   "id": "9036e5cd",
   "metadata": {},
   "outputs": [],
   "source": [
    "diff = (maxval+0.000001-minval)"
   ]
  },
  {
   "cell_type": "code",
   "execution_count": null,
   "id": "39113632",
   "metadata": {},
   "outputs": [],
   "source": [
    "testdata = minidata[:,150:160,40:50]"
   ]
  },
  {
   "cell_type": "code",
   "execution_count": null,
   "id": "d915f703",
   "metadata": {},
   "outputs": [],
   "source": []
  }
 ],
 "metadata": {
  "kernelspec": {
   "display_name": "tf2.0",
   "language": "python",
   "name": "tf2.0"
  },
  "language_info": {
   "codemirror_mode": {
    "name": "ipython",
    "version": 3
   },
   "file_extension": ".py",
   "mimetype": "text/x-python",
   "name": "python",
   "nbconvert_exporter": "python",
   "pygments_lexer": "ipython3",
   "version": "3.6.13"
  }
 },
 "nbformat": 4,
 "nbformat_minor": 5
}
