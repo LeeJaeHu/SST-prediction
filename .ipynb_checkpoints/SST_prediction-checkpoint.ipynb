{
 "cells": [
  {
   "cell_type": "code",
   "execution_count": null,
   "id": "59cfae03",
   "metadata": {},
   "outputs": [],
   "source": [
    "from tensorflow.keras.layers import ConvLSTM2D, Conv3D, BatchNormalization, Dropout,LSTM\n",
    "from tensorflow.keras.models import Sequential, Model\n",
    "from tensorflow.keras.layers import (Input, Dense, Conv2D, MaxPooling2D, UpSampling2D,Attention,\n",
    "                                     Flatten, Reshape, UpSampling3D, MaxPool3D, AveragePooling2D)\n",
    "from tensorflow.keras.callbacks import EarlyStopping\n",
    "from tensorflow.keras.layers import TimeDistributed, GRU, InputLayer, Softmax\n",
    "from tensorflow.keras import Model\n",
    "early_stopping = EarlyStopping(patience=30)\n",
    "import numpy as np\n",
    "import tensorflow as tf\n",
    "import matplotlib.pyplot as plt\n",
    "import pickle"
   ]
  },
  {
   "cell_type": "markdown",
   "id": "c153551f",
   "metadata": {},
   "source": [
    "## data"
   ]
  },
  {
   "cell_type": "code",
   "execution_count": null,
   "id": "2e68fd2f",
   "metadata": {},
   "outputs": [],
   "source": [
    "import pickle\n",
    "with open('D:\\\\py\\\\deeppy\\\\sst_data4.pickle','rb') as file:\n",
    "    sst_data = pickle.load(file)"
   ]
  },
  {
   "cell_type": "code",
   "execution_count": null,
   "id": "43852472",
   "metadata": {},
   "outputs": [],
   "source": [
    "minidata = sst_data[:,200:400,250:450]"
   ]
  },
  {
   "cell_type": "code",
   "execution_count": null,
   "id": "15bcad23",
   "metadata": {},
   "outputs": [],
   "source": [
    "minval = np.min(np.where(minidata>0,minidata,5000))\n",
    "maxval = np.max(minidata)"
   ]
  },
  {
   "cell_type": "code",
   "execution_count": null,
   "id": "4bb49aa2",
   "metadata": {},
   "outputs": [],
   "source": [
    "minidata = (minidata+0.000001-minval)/(maxval+0.000001-minval)"
   ]
  },
  {
   "cell_type": "code",
   "execution_count": null,
   "id": "905ad7da",
   "metadata": {},
   "outputs": [],
   "source": [
    "minidata = np.where(minidata>0,minidata,0)"
   ]
  },
  {
   "cell_type": "code",
   "execution_count": null,
   "id": "8e0de540",
   "metadata": {},
   "outputs": [],
   "source": [
    "west = sst_data[:,275:285,301:311]\n",
    "east = sst_data[:,275:285,396:406]\n",
    "south = sst_data[:,322:332,349:359]"
   ]
  },
  {
   "cell_type": "code",
   "execution_count": null,
   "id": "bb357bd1",
   "metadata": {},
   "outputs": [],
   "source": [
    "eastdiff = np.max(east)-np.min(east)\n",
    "eastnor = (east-np.min(east))/(np.max(east) - np.min(east))"
   ]
  },
  {
   "cell_type": "code",
   "execution_count": null,
   "id": "9036e5cd",
   "metadata": {},
   "outputs": [],
   "source": [
    "diff = (maxval+0.000001-minval)"
   ]
  },
  {
   "cell_type": "code",
   "execution_count": null,
   "id": "39113632",
   "metadata": {},
   "outputs": [],
   "source": [
    "testdata = minidata[:,150:160,40:50]"
   ]
  },
  {
   "cell_type": "markdown",
   "id": "cf321bc4",
   "metadata": {},
   "source": [
    "## Conv3D+LSTM"
   ]
  },
  {
   "cell_type": "markdown",
   "id": "badab0ec",
   "metadata": {},
   "source": [
    "### tuning"
   ]
  },
  {
   "cell_type": "code",
   "execution_count": null,
   "id": "d0df122e",
   "metadata": {},
   "outputs": [],
   "source": [
    "def conv3d(filter1,filter_size, lstm, day):\n",
    "    adam = tf.keras.optimizers.Adam(lr=0.001, decay=0.1)\n",
    "    inputs = Input((day,10,10,1))\n",
    "    output = Conv3D(filter1,filter_size,padding='same')(inputs)\n",
    "    output = MaxPool3D(2)(output)\n",
    "    output = Conv3D(int(filter1*(day/16)),filter_size,padding='same')(output)\n",
    "    output = MaxPool3D(2)(output)\n",
    "    output = Reshape((day,int(filter1/4)))(output)\n",
    "    output = LSTM(lstm, activation='relu',return_sequences=True)(output)\n",
    "    output = Flatten()(output)\n",
    "    output = Dense(100)(output)\n",
    "    output = Reshape((10,10))(output)\n",
    "    model2 = Model(inputs, output)\n",
    "    model2.compile(loss='mse', optimizer=adam)\n",
    "    model2.summary()\n",
    "    \n",
    "    return model2"
   ]
  },
  {
   "cell_type": "code",
   "execution_count": null,
   "id": "4593e96e",
   "metadata": {},
   "outputs": [],
   "source": [
    "filter1 = map(int,[128,256,512])\n",
    "filter_size=[3,5,7,9]\n",
    "lstm=[30,45,60]\n",
    "day = map(int,[5,7,9])\n",
    "result=[]"
   ]
  },
  {
   "cell_type": "code",
   "execution_count": null,
   "id": "ed54b014",
   "metadata": {},
   "outputs": [],
   "source": [
    "for l in day:    \n",
    "    test = testdata[:,np.newaxis,:,:]\n",
    "    for m in range(l-1):\n",
    "        test = np.append(test[:-1], testdata[(m+1):,np.newaxis], axis=1)\n",
    "    for i in filter1:\n",
    "        for j in filter_size:\n",
    "            for k in lstm:\n",
    "                model_t = conv3d(i,j,k,l)\n",
    "                history = model_t.fit(test[:-366], testdata[(l):-365], batch_size=200, epochs=2000,  validation_split=0.03)\n",
    "                result.append(np.sum(abs(model_t.predict(test[-366:-1])-testdata[-365:].reshape((365,10,10)))*diff)/(100*365))\n",
    "                print(l,i,j,k)\n",
    "                tf.keras.backend.clear_session()"
   ]
  },
  {
   "cell_type": "code",
   "execution_count": null,
   "id": "01fb449d",
   "metadata": {},
   "outputs": [],
   "source": []
  },
  {
   "cell_type": "code",
   "execution_count": null,
   "id": "0fa3b1a2",
   "metadata": {},
   "outputs": [],
   "source": [
    "# 5일치  sst data\n",
    "test5 = testdata[:,np.newaxis,:,:]\n",
    "for i in range(4):\n",
    "    test5 = np.append(test5[:-1], testdata[(i+1):,np.newaxis], axis=1)"
   ]
  },
  {
   "cell_type": "code",
   "execution_count": null,
   "id": "a4ba8481",
   "metadata": {},
   "outputs": [],
   "source": [
    "adam = tf.keras.optimizers.Adam(lr=0.001, decay=0.1)\n",
    "inputs = Input((5,10,10,1))\n",
    "output = Conv3D(256,5,padding='same')(inputs)\n",
    "output = MaxPool3D(2)(output)\n",
    "output = Conv3D(120,5,padding='same')(output)\n",
    "output = MaxPool3D(2)(output)\n",
    "output = Reshape((5,96))(output)\n",
    "output = LSTM(60, activation='relu',return_sequences=True)(output)\n",
    "output = Flatten()(output)\n",
    "output = Dense(100)(output)\n",
    "output = Reshape((10,10))(output)\n",
    "model1 = Model(inputs, output)\n",
    "model1.compile(loss='mse', optimizer=adam)\n",
    "model1.summary()"
   ]
  },
  {
   "cell_type": "code",
   "execution_count": null,
   "id": "19a6bcdd",
   "metadata": {},
   "outputs": [],
   "source": [
    "h = model1.fit(test14[:-366], testdata[5:-365], batch_size=200, epochs=2000,  validation_split=0.03)"
   ]
  },
  {
   "cell_type": "code",
   "execution_count": 1,
   "id": "c153fb22",
   "metadata": {},
   "outputs": [
    {
     "ename": "NameError",
     "evalue": "name 'np' is not defined",
     "output_type": "error",
     "traceback": [
      "\u001b[1;31m---------------------------------------------------------------------------\u001b[0m",
      "\u001b[1;31mNameError\u001b[0m                                 Traceback (most recent call last)",
      "\u001b[1;32m<ipython-input-1-e2abb5aadb35>\u001b[0m in \u001b[0;36m<module>\u001b[1;34m\u001b[0m\n\u001b[0;32m      1\u001b[0m \u001b[1;31m# last 365 days are test set\u001b[0m\u001b[1;33m\u001b[0m\u001b[1;33m\u001b[0m\u001b[1;33m\u001b[0m\u001b[0m\n\u001b[1;32m----> 2\u001b[1;33m \u001b[0mnp\u001b[0m\u001b[1;33m.\u001b[0m\u001b[0msum\u001b[0m\u001b[1;33m(\u001b[0m\u001b[0mabs\u001b[0m\u001b[1;33m(\u001b[0m\u001b[0mmodel\u001b[0m\u001b[1;33m.\u001b[0m\u001b[0mpredict\u001b[0m\u001b[1;33m(\u001b[0m\u001b[0mtest5\u001b[0m\u001b[1;33m[\u001b[0m\u001b[1;33m-\u001b[0m\u001b[1;36m366\u001b[0m\u001b[1;33m:\u001b[0m\u001b[1;33m-\u001b[0m\u001b[1;36m1\u001b[0m\u001b[1;33m]\u001b[0m\u001b[1;33m)\u001b[0m\u001b[1;33m-\u001b[0m\u001b[0mtestdata\u001b[0m\u001b[1;33m[\u001b[0m\u001b[1;33m-\u001b[0m\u001b[1;36m365\u001b[0m\u001b[1;33m:\u001b[0m\u001b[1;33m]\u001b[0m\u001b[1;33m.\u001b[0m\u001b[0mreshape\u001b[0m\u001b[1;33m(\u001b[0m\u001b[1;33m(\u001b[0m\u001b[1;36m365\u001b[0m\u001b[1;33m,\u001b[0m\u001b[1;36m10\u001b[0m\u001b[1;33m,\u001b[0m\u001b[1;36m10\u001b[0m\u001b[1;33m)\u001b[0m\u001b[1;33m)\u001b[0m\u001b[1;33m)\u001b[0m\u001b[1;33m*\u001b[0m\u001b[0mdiff\u001b[0m\u001b[1;33m)\u001b[0m\u001b[1;33m/\u001b[0m\u001b[1;33m(\u001b[0m\u001b[1;36m100\u001b[0m\u001b[1;33m*\u001b[0m\u001b[1;36m365\u001b[0m\u001b[1;33m)\u001b[0m\u001b[1;33m\u001b[0m\u001b[1;33m\u001b[0m\u001b[0m\n\u001b[0m",
      "\u001b[1;31mNameError\u001b[0m: name 'np' is not defined"
     ]
    }
   ],
   "source": [
    "# last 365 days are test set\n",
    "np.sum(abs(model1.predict(test5[-366:-1])-testdata[-365:].reshape((365,10,10)))*diff)/(100*365)"
   ]
  },
  {
   "cell_type": "markdown",
   "id": "f7cd801f",
   "metadata": {},
   "source": [
    "## Conv3D+LSTM+Attention"
   ]
  },
  {
   "cell_type": "code",
   "execution_count": null,
   "id": "8cf1a3f4",
   "metadata": {},
   "outputs": [],
   "source": [
    "adam = tf.keras.optimizers.Adam(lr=0.001, decay=0.1)\n",
    "inputs = Input(shape=(5,10,10,1))\n",
    "cnn3d = Conv3D(256,5,padding='same')(inputs)\n",
    "cnn3d = MaxPool3D(2)(cnn3d)\n",
    "cnn3d = BatchNormalization()(cnn3d)\n",
    "cnn3d = Conv3D(120,5,padding='same')(cnn3d)\n",
    "cnn3d = MaxPool3D(2)(cnn3d)\n",
    "cnn3d = Reshape((5,96))(cnn3d)\n",
    "\n",
    "lstm = LSTM(60, return_sequences=True)(cnn3d)\n",
    "attention = Attention()([lstm,lstm])\n",
    "sent = Flatten()(attention)\n",
    "output = Dense(100)(sent)\n",
    "output = Reshape((10,10))(output)\n",
    "model = Model(inputs, output)\n",
    "model.compile(loss='mse', optimizer=adam)\n",
    "model.summary()"
   ]
  },
  {
   "cell_type": "code",
   "execution_count": null,
   "id": "cd0d730b",
   "metadata": {},
   "outputs": [],
   "source": [
    "at=model.fit(test5[:-366], testdata[5:-365], batch_size=100, epochs=2000,  validation_split=0.03)"
   ]
  },
  {
   "cell_type": "code",
   "execution_count": null,
   "id": "cf2363b1",
   "metadata": {},
   "outputs": [],
   "source": [
    "np.sum(abs(model.predict(test5[-366:-1])-testdata[-365:].reshape((365,10,10)))*diff)/(100*365) #test"
   ]
  },
  {
   "cell_type": "markdown",
   "id": "b422bdf3",
   "metadata": {},
   "source": [
    "## ConvLSTM"
   ]
  },
  {
   "cell_type": "code",
   "execution_count": null,
   "id": "5761d7be",
   "metadata": {},
   "outputs": [],
   "source": [
    "adam = tf.keras.optimizers.Adam(lr=0.001, decay=0.1)\n",
    "inputs = Input((5,10,10,1))\n",
    "output = ConvLSTM2D(128,5,return_sequences=True,padding='same')(inputs)\n",
    "output = ConvLSTM2D(64,5, padding='same')(output)\n",
    "output = Flatten()(output)\n",
    "output = Dense(100)(output)\n",
    "output = Reshape((10,10))(output)\n",
    "modelcl2 = Model(inputs, output)\n",
    "modelcl2.compile(loss='mse', optimizer=adam)\n",
    "modelcl2.summary()"
   ]
  },
  {
   "cell_type": "code",
   "execution_count": null,
   "id": "0a361804",
   "metadata": {},
   "outputs": [],
   "source": [
    "cl2=modelcl2.fit(test14[:-366], testdata[5:-365], batch_size=100, epochs=3000,  validation_split=0.03)"
   ]
  },
  {
   "cell_type": "code",
   "execution_count": null,
   "id": "cc195596",
   "metadata": {},
   "outputs": [],
   "source": [
    "np.sum(abs(modelcl2.predict(test5[-366:-1])-testdata[-365:].reshape((365,10,10)))*diff)/(100*365) #test"
   ]
  }
 ],
 "metadata": {
  "kernelspec": {
   "display_name": "tf2.0",
   "language": "python",
   "name": "tf2.0"
  },
  "language_info": {
   "codemirror_mode": {
    "name": "ipython",
    "version": 3
   },
   "file_extension": ".py",
   "mimetype": "text/x-python",
   "name": "python",
   "nbconvert_exporter": "python",
   "pygments_lexer": "ipython3",
   "version": "3.6.13"
  }
 },
 "nbformat": 4,
 "nbformat_minor": 5
}
